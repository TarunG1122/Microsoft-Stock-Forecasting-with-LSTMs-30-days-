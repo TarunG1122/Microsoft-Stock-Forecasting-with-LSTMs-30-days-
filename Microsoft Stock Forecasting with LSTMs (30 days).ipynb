{
 "cells": [
  {
   "cell_type": "code",
   "execution_count": 80,
   "id": "65c1236c",
   "metadata": {},
   "outputs": [],
   "source": [
    "import tensorflow as tf\n",
    "import matplotlib.pyplot as plt\n",
    "import numpy as np\n",
    "import pandas as pd"
   ]
  },
  {
   "cell_type": "code",
   "execution_count": 111,
   "id": "d6262f74",
   "metadata": {},
   "outputs": [],
   "source": [
    "#download dataset from yahoo finance \n",
    "df = pd.read_csv(r\"C:\\Users\\tarun\\Desktop\\MSFT.csv\")"
   ]
  },
  {
   "cell_type": "code",
   "execution_count": 112,
   "id": "908d947f",
   "metadata": {},
   "outputs": [
    {
     "data": {
      "text/html": [
       "<div>\n",
       "<style scoped>\n",
       "    .dataframe tbody tr th:only-of-type {\n",
       "        vertical-align: middle;\n",
       "    }\n",
       "\n",
       "    .dataframe tbody tr th {\n",
       "        vertical-align: top;\n",
       "    }\n",
       "\n",
       "    .dataframe thead th {\n",
       "        text-align: right;\n",
       "    }\n",
       "</style>\n",
       "<table border=\"1\" class=\"dataframe\">\n",
       "  <thead>\n",
       "    <tr style=\"text-align: right;\">\n",
       "      <th></th>\n",
       "      <th>Date</th>\n",
       "      <th>Open</th>\n",
       "      <th>High</th>\n",
       "      <th>Low</th>\n",
       "      <th>Close</th>\n",
       "      <th>Adj Close</th>\n",
       "      <th>Volume</th>\n",
       "    </tr>\n",
       "  </thead>\n",
       "  <tbody>\n",
       "    <tr>\n",
       "      <th>0</th>\n",
       "      <td>1986-03-13</td>\n",
       "      <td>0.088542</td>\n",
       "      <td>0.101563</td>\n",
       "      <td>0.088542</td>\n",
       "      <td>0.097222</td>\n",
       "      <td>0.060980</td>\n",
       "      <td>1031788800</td>\n",
       "    </tr>\n",
       "    <tr>\n",
       "      <th>1</th>\n",
       "      <td>1986-03-14</td>\n",
       "      <td>0.097222</td>\n",
       "      <td>0.102431</td>\n",
       "      <td>0.097222</td>\n",
       "      <td>0.100694</td>\n",
       "      <td>0.063158</td>\n",
       "      <td>308160000</td>\n",
       "    </tr>\n",
       "    <tr>\n",
       "      <th>2</th>\n",
       "      <td>1986-03-17</td>\n",
       "      <td>0.100694</td>\n",
       "      <td>0.103299</td>\n",
       "      <td>0.100694</td>\n",
       "      <td>0.102431</td>\n",
       "      <td>0.064247</td>\n",
       "      <td>133171200</td>\n",
       "    </tr>\n",
       "    <tr>\n",
       "      <th>3</th>\n",
       "      <td>1986-03-18</td>\n",
       "      <td>0.102431</td>\n",
       "      <td>0.103299</td>\n",
       "      <td>0.098958</td>\n",
       "      <td>0.099826</td>\n",
       "      <td>0.062613</td>\n",
       "      <td>67766400</td>\n",
       "    </tr>\n",
       "    <tr>\n",
       "      <th>4</th>\n",
       "      <td>1986-03-19</td>\n",
       "      <td>0.099826</td>\n",
       "      <td>0.100694</td>\n",
       "      <td>0.097222</td>\n",
       "      <td>0.098090</td>\n",
       "      <td>0.061524</td>\n",
       "      <td>47894400</td>\n",
       "    </tr>\n",
       "  </tbody>\n",
       "</table>\n",
       "</div>"
      ],
      "text/plain": [
       "         Date      Open      High       Low     Close  Adj Close      Volume\n",
       "0  1986-03-13  0.088542  0.101563  0.088542  0.097222   0.060980  1031788800\n",
       "1  1986-03-14  0.097222  0.102431  0.097222  0.100694   0.063158   308160000\n",
       "2  1986-03-17  0.100694  0.103299  0.100694  0.102431   0.064247   133171200\n",
       "3  1986-03-18  0.102431  0.103299  0.098958  0.099826   0.062613    67766400\n",
       "4  1986-03-19  0.099826  0.100694  0.097222  0.098090   0.061524    47894400"
      ]
     },
     "execution_count": 112,
     "metadata": {},
     "output_type": "execute_result"
    }
   ],
   "source": [
    "df.head()"
   ]
  },
  {
   "cell_type": "code",
   "execution_count": 113,
   "id": "807c2ddf",
   "metadata": {},
   "outputs": [],
   "source": [
    "df1 = df.reset_index()['Close']"
   ]
  },
  {
   "cell_type": "code",
   "execution_count": 114,
   "id": "0bca5a20",
   "metadata": {},
   "outputs": [
    {
     "data": {
      "text/plain": [
       "0         0.097222\n",
       "1         0.100694\n",
       "2         0.102431\n",
       "3         0.099826\n",
       "4         0.098090\n",
       "           ...    \n",
       "9182    291.320007\n",
       "9183    290.170013\n",
       "9184    286.149994\n",
       "9185    277.750000\n",
       "9186    276.440002\n",
       "Name: Close, Length: 9187, dtype: float64"
      ]
     },
     "execution_count": 114,
     "metadata": {},
     "output_type": "execute_result"
    }
   ],
   "source": [
    "df1"
   ]
  },
  {
   "cell_type": "code",
   "execution_count": 115,
   "id": "60179692",
   "metadata": {},
   "outputs": [
    {
     "data": {
      "text/plain": [
       "[<matplotlib.lines.Line2D at 0x14c0ee76fd0>]"
      ]
     },
     "execution_count": 115,
     "metadata": {},
     "output_type": "execute_result"
    },
    {
     "data": {
      "image/png": "[encoded data removed]",
      "text/plain": [
       "<Figure size 432x288 with 1 Axes>"
      ]
     },
     "metadata": {
      "needs_background": "light"
     },
     "output_type": "display_data"
    }
   ],
   "source": [
    "import matplotlib.pyplot as plt\n",
    "plt.plot(df1)"
   ]
  },
  {
   "cell_type": "code",
   "execution_count": 116,
   "id": "8cb4e945",
   "metadata": {},
   "outputs": [],
   "source": [
    "import numpy as np\n",
    "from sklearn.preprocessing import MinMaxScaler\n",
    "scalar = MinMaxScaler(feature_range=(0,1))\n",
    "df1 = scalar.fit_transform(np.array(df1).reshape(-1,1))"
   ]
  },
  {
   "cell_type": "code",
   "execution_count": 117,
   "id": "2900d869",
   "metadata": {},
   "outputs": [
    {
     "data": {
      "text/plain": [
       "(9187, 1)"
      ]
     },
     "execution_count": 117,
     "metadata": {},
     "output_type": "execute_result"
    }
   ],
   "source": [
    "df1.shape"
   ]
  },
  {
   "cell_type": "code",
   "execution_count": 118,
   "id": "8989a6c0",
   "metadata": {},
   "outputs": [
    {
     "data": {
      "text/plain": [
       "array([[2.02437349e-05],\n",
       "       [3.03656023e-05],\n",
       "       [3.54294513e-05],\n",
       "       ...,\n",
       "       [8.33945427e-01],\n",
       "       [8.09457055e-01],\n",
       "       [8.05638039e-01]])"
      ]
     },
     "execution_count": 118,
     "metadata": {},
     "output_type": "execute_result"
    }
   ],
   "source": [
    "df1"
   ]
  },
  {
   "cell_type": "code",
   "execution_count": 119,
   "id": "0a64f143",
   "metadata": {},
   "outputs": [],
   "source": [
    "training_size = int(len(df1)*0.65)\n",
    "test_size = len(df1) - training_size\n",
    "train_data ,test_data = df1[0:training_size,:],df1[training_size:len(df1),:1]"
   ]
  },
  {
   "cell_type": "code",
   "execution_count": 120,
   "id": "961f8587",
   "metadata": {},
   "outputs": [
    {
     "data": {
      "text/plain": [
       "5971"
      ]
     },
     "execution_count": 120,
     "metadata": {},
     "output_type": "execute_result"
    }
   ],
   "source": [
    "len(train_data)"
   ]
  },
  {
   "cell_type": "code",
   "execution_count": 121,
   "id": "16b50dd0",
   "metadata": {},
   "outputs": [],
   "source": [
    "def create_dataset(dataset,time_step = 1):\n",
    "    dataX , dataY = [],[]\n",
    "    \n",
    "    for i in range(len(dataset) -time_step -1):\n",
    "        a = dataset[i:(i+time_step),0]\n",
    "        dataX.append(a)\n",
    "        dataY.append(dataset[i+time_step,0])\n",
    "    return np.array(dataX),np.array(dataY)"
   ]
  },
  {
   "cell_type": "code",
   "execution_count": 122,
   "id": "b81a98e2",
   "metadata": {},
   "outputs": [],
   "source": [
    "time_step = 100\n",
    "X_train,y_train = create_dataset(train_data,time_step)\n",
    "X_test,y_test = create_dataset(test_data,time_step)"
   ]
  },
  {
   "cell_type": "code",
   "execution_count": 123,
   "id": "6ff8bbf2",
   "metadata": {},
   "outputs": [
    {
     "name": "stdout",
     "output_type": "stream",
     "text": [
      "(3115, 100)\n",
      "(3115,)\n"
     ]
    },
    {
     "data": {
      "text/plain": [
       "(None, None)"
      ]
     },
     "execution_count": 123,
     "metadata": {},
     "output_type": "execute_result"
    }
   ],
   "source": [
    "print(X_test.shape),print(y_test.shape)"
   ]
  },
  {
   "cell_type": "code",
   "execution_count": 124,
   "id": "e3050285",
   "metadata": {},
   "outputs": [],
   "source": [
    "X_train = X_train.reshape(X_train.shape[0],X_train.shape[1],1)\n",
    "X_test = X_test.reshape(X_test.shape[0],X_test.shape[1],1)"
   ]
  },
  {
   "cell_type": "code",
   "execution_count": 125,
   "id": "62cee284",
   "metadata": {},
   "outputs": [],
   "source": [
    "from tensorflow.keras.models import Sequential\n",
    "from tensorflow.keras.layers import Dense , LSTM"
   ]
  },
  {
   "cell_type": "code",
   "execution_count": 126,
   "id": "92c0de22",
   "metadata": {},
   "outputs": [],
   "source": [
    "model = Sequential()\n",
    "model.add(LSTM(50,return_sequences=True,input_shape=(100,1)))\n",
    "model.add(LSTM(50,return_sequences=True))\n",
    "model.add(LSTM(50))\n",
    "model.add(Dense(1))\n",
    "model.compile(loss = 'mse',optimizer = 'adam')"
   ]
  },
  {
   "cell_type": "code",
   "execution_count": 127,
   "id": "a6567b04",
   "metadata": {},
   "outputs": [
    {
     "name": "stdout",
     "output_type": "stream",
     "text": [
      "Model: \"sequential_2\"\n",
      "_________________________________________________________________\n",
      " Layer (type)                Output Shape              Param #   \n",
      "=================================================================\n",
      " lstm_6 (LSTM)               (None, 100, 50)           10400     \n",
      "                                                                 \n",
      " lstm_7 (LSTM)               (None, 100, 50)           20200     \n",
      "                                                                 \n",
      " lstm_8 (LSTM)               (None, 50)                20200     \n",
      "                                                                 \n",
      " dense_2 (Dense)             (None, 1)                 51        \n",
      "                                                                 \n",
      "=================================================================\n",
      "Total params: 50,851\n",
      "Trainable params: 50,851\n",
      "Non-trainable params: 0\n",
      "_________________________________________________________________\n"
     ]
    }
   ],
   "source": [
    "model.summary()"
   ]
  },
  {
   "cell_type": "code",
   "execution_count": 128,
   "id": "ef4d8103",
   "metadata": {},
   "outputs": [
    {
     "name": "stdout",
     "output_type": "stream",
     "text": [
      "Epoch 1/10\n",
      "184/184 [==============================] - 27s 102ms/step - loss: 1.0166e-04 - val_loss: 0.0045\n",
      "Epoch 2/10\n",
      "184/184 [==============================] - 18s 98ms/step - loss: 2.0383e-05 - val_loss: 0.0055\n",
      "Epoch 3/10\n",
      "184/184 [==============================] - 19s 101ms/step - loss: 1.8236e-05 - val_loss: 0.0057\n",
      "Epoch 4/10\n",
      "184/184 [==============================] - 18s 97ms/step - loss: 1.5508e-05 - val_loss: 0.0054\n",
      "Epoch 5/10\n",
      "184/184 [==============================] - 18s 95ms/step - loss: 1.2991e-05 - val_loss: 0.0038\n",
      "Epoch 6/10\n",
      "184/184 [==============================] - 18s 96ms/step - loss: 1.1633e-05 - val_loss: 0.0034\n",
      "Epoch 7/10\n",
      "184/184 [==============================] - 18s 96ms/step - loss: 1.1092e-05 - val_loss: 0.0052\n",
      "Epoch 8/10\n",
      "184/184 [==============================] - 18s 96ms/step - loss: 1.0948e-05 - val_loss: 0.0031\n",
      "Epoch 9/10\n",
      "184/184 [==============================] - 18s 97ms/step - loss: 8.8859e-06 - val_loss: 0.0016\n",
      "Epoch 10/10\n",
      "184/184 [==============================] - 21s 114ms/step - loss: 8.6637e-06 - val_loss: 0.0029\n"
     ]
    },
    {
     "data": {
      "text/plain": [
       "<keras.callbacks.History at 0x14c0eebfd90>"
      ]
     },
     "execution_count": 128,
     "metadata": {},
     "output_type": "execute_result"
    }
   ],
   "source": [
    "model.fit(X_train,y_train,validation_data=(X_test,y_test),epochs = 10, batch_size = 32)"
   ]
  },
  {
   "cell_type": "code",
   "execution_count": 129,
   "id": "4764da5a",
   "metadata": {},
   "outputs": [
    {
     "name": "stdout",
     "output_type": "stream",
     "text": [
      "184/184 [==============================] - 6s 27ms/step\n",
      "98/98 [==============================] - 3s 26ms/step\n"
     ]
    }
   ],
   "source": [
    "train_predict = model.predict(X_train)\n",
    "test_predict = model.predict(X_test)"
   ]
  },
  {
   "cell_type": "code",
   "execution_count": 130,
   "id": "5aa4f174",
   "metadata": {},
   "outputs": [],
   "source": [
    "\n",
    "train_predict = scalar.inverse_transform(train_predict)\n",
    "test_predict = scalar.inverse_transform(test_predict)"
   ]
  },
  {
   "cell_type": "code",
   "execution_count": 131,
   "id": "b12279e1",
   "metadata": {},
   "outputs": [
    {
     "data": {
      "text/plain": [
       "21.52196853653501"
      ]
     },
     "execution_count": 131,
     "metadata": {},
     "output_type": "execute_result"
    }
   ],
   "source": [
    "import math\n",
    "from sklearn.metrics import mean_squared_error\n",
    "math.sqrt(mean_squared_error(y_train,train_predict))"
   ]
  },
  {
   "cell_type": "code",
   "execution_count": 132,
   "id": "5e253fd1",
   "metadata": {},
   "outputs": [
    {
     "data": {
      "text/plain": [
       "112.87868383701189"
      ]
     },
     "execution_count": 132,
     "metadata": {},
     "output_type": "execute_result"
    }
   ],
   "source": [
    "#test data rmse\n",
    "math.sqrt(mean_squared_error(y_test,test_predict))"
   ]
  },
  {
   "cell_type": "code",
   "execution_count": 133,
   "id": "6ea6e072",
   "metadata": {},
   "outputs": [
    {
     "data": {
      "image/png": "[encoded data removed]",
      "text/plain": [
       "<Figure size 432x288 with 1 Axes>"
      ]
     },
     "metadata": {
      "needs_background": "light"
     },
     "output_type": "display_data"
    }
   ],
   "source": [
    "### Plotting \n",
    "# shift train predictions for plotting\n",
    "look_back=100\n",
    "trainPredictPlot = np.empty_like(df1)\n",
    "trainPredictPlot[:, :] = np.nan\n",
    "trainPredictPlot[look_back:len(train_predict)+look_back, :] = train_predict\n",
    "# shift test predictions for plotting\n",
    "testPredictPlot = np.empty_like(df1)\n",
    "testPredictPlot[:, :] = np.nan\n",
    "testPredictPlot[len(train_predict)+(look_back*2)+1:len(df1)-1, :] = test_predict\n",
    "# plot baseline and predictions\n",
    "plt.plot(scalar.inverse_transform(df1))\n",
    "plt.plot(trainPredictPlot)\n",
    "plt.plot(testPredictPlot)\n",
    "plt.show()"
   ]
  },
  {
   "cell_type": "code",
   "execution_count": 134,
   "id": "65708e8d",
   "metadata": {},
   "outputs": [
    {
     "data": {
      "text/plain": [
       "3216"
      ]
     },
     "execution_count": 134,
     "metadata": {},
     "output_type": "execute_result"
    }
   ],
   "source": [
    "len(test_data)"
   ]
  },
  {
   "cell_type": "code",
   "execution_count": 135,
   "id": "43756a76",
   "metadata": {},
   "outputs": [
    {
     "data": {
      "text/plain": [
       "(1, 100)"
      ]
     },
     "execution_count": 135,
     "metadata": {},
     "output_type": "execute_result"
    }
   ],
   "source": [
    "x_input = test_data[3116:].reshape(1,-1)\n",
    "x_input.shape"
   ]
  },
  {
   "cell_type": "code",
   "execution_count": 136,
   "id": "ebcd98bc",
   "metadata": {},
   "outputs": [],
   "source": [
    "temp_input = list(x_input)\n",
    "temp_input = temp_input[0].tolist()"
   ]
  },
  {
   "cell_type": "code",
   "execution_count": 137,
   "id": "7d305127",
   "metadata": {},
   "outputs": [
    {
     "data": {
      "text/plain": [
       "[0.8985481408506947,\n",
       " 0.9017841502616641,\n",
       " 0.9179639436867691,\n",
       " 0.9060404421603684,\n",
       " 0.8728644911354905,\n",
       " 0.8783160583831997,\n",
       " 0.8654888245240092,\n",
       " 0.8313508704617955,\n",
       " 0.8220219254050032,\n",
       " 0.838230897911647,\n",
       " 0.8155208091294884,\n",
       " 0.8175323611946297,\n",
       " 0.8314674177014558,\n",
       " 0.8345576104174097,\n",
       " 0.8183778199075893,\n",
       " 0.7986121946049006,\n",
       " 0.8181154530576287,\n",
       " 0.787504966879352,\n",
       " 0.8254036640524565,\n",
       " 0.8440906487043324,\n",
       " 0.8087865080008363,\n",
       " 0.8290477695498704,\n",
       " 0.8212056486888667,\n",
       " 0.8451110157353147,\n",
       " 0.8082909592130227,\n",
       " 0.8006529286668652,\n",
       " 0.771062722061039,\n",
       " 0.7854059591975572,\n",
       " 0.7593141288526609,\n",
       " 0.7441547024585384,\n",
       " 0.7609758613664726,\n",
       " 0.7620836840141083,\n",
       " 0.7775930174180925,\n",
       " 0.7404522796120283,\n",
       " 0.7377119035321198,\n",
       " 0.7360210356660355,\n",
       " 0.7596056747841605,\n",
       " 0.7566029347695759,\n",
       " 0.7650572420318698,\n",
       " 0.7749109178732988,\n",
       " 0.7963090936929755,\n",
       " 0.792315168644232,\n",
       " 0.7939186275382132,\n",
       " 0.80021556604035,\n",
       " 0.786921875016353,\n",
       " 0.7832194958991089,\n",
       " 0.7941518123913505,\n",
       " 0.7880588796608121,\n",
       " 0.7716749959208612,\n",
       " 0.7372746283641366,\n",
       " 0.7059935976214918,\n",
       " 0.7124947109817221,\n",
       " 0.7336887994018374,\n",
       " 0.7138940358315915,\n",
       " 0.7217069776110561,\n",
       " 0.7394610916625849,\n",
       " 0.737682768179847,\n",
       " 0.7543872894743042,\n",
       " 0.780158482264694,\n",
       " 0.7719665418523608,\n",
       " 0.7474489884046225,\n",
       " 0.7584687605135177,\n",
       " 0.7484692679770729,\n",
       " 0.7564863000713835,\n",
       " 0.7660193354430217,\n",
       " 0.7758146472908043,\n",
       " 0.7821991288681266,\n",
       " 0.7800418475665016,\n",
       " 0.770858719204725,\n",
       " 0.739257001347739,\n",
       " 0.7364874899155576,\n",
       " 0.7404522796120283,\n",
       " 0.7481486275072821,\n",
       " 0.7409478721291078,\n",
       " 0.7563405708348996,\n",
       " 0.764328420932387,\n",
       " 0.7718207222420606,\n",
       " 0.7587602160712009,\n",
       " 0.7542998367729351,\n",
       " 0.7340969363022632,\n",
       " 0.7831903139022856,\n",
       " 0.8055505860483988,\n",
       " 0.8181737266774588,\n",
       " 0.810215058576795,\n",
       " 0.8009152926015414,\n",
       " 0.8232172007540082,\n",
       " 0.8266572159365759,\n",
       " 0.824499934634951,\n",
       " 0.8169493567901625,\n",
       " 0.8227215645076625,\n",
       " 0.8427204621220205,\n",
       " 0.8364817097811819,\n",
       " 0.8507374942163309,\n",
       " 0.8552853291312503,\n",
       " 0.8530696838359786,\n",
       " 0.8490174851674047,\n",
       " 0.8456649256014903,\n",
       " 0.8339454269314037,\n",
       " 0.8094570554804889,\n",
       " 0.8056380387497678]"
      ]
     },
     "execution_count": 137,
     "metadata": {},
     "output_type": "execute_result"
    }
   ],
   "source": [
    "temp_input"
   ]
  },
  {
   "cell_type": "code",
   "execution_count": 138,
   "id": "d045ffb6",
   "metadata": {},
   "outputs": [
    {
     "name": "stdout",
     "output_type": "stream",
     "text": [
      "[0.700082]\n",
      "101\n",
      "1 day input [0.90178415 0.91796394 0.90604044 0.87286449 0.87831606 0.86548882\n",
      " 0.83135087 0.82202193 0.8382309  0.81552081 0.81753236 0.83146742\n",
      " 0.83455761 0.81837782 0.79861219 0.81811545 0.78750497 0.82540366\n",
      " 0.84409065 0.80878651 0.82904777 0.82120565 0.84511102 0.80829096\n",
      " 0.80065293 0.77106272 0.78540596 0.75931413 0.7441547  0.76097586\n",
      " 0.76208368 0.77759302 0.74045228 0.7377119  0.73602104 0.75960567\n",
      " 0.75660293 0.76505724 0.77491092 0.79630909 0.79231517 0.79391863\n",
      " 0.80021557 0.78692188 0.7832195  0.79415181 0.78805888 0.771675\n",
      " 0.73727463 0.7059936  0.71249471 0.7336888  0.71389404 0.72170698\n",
      " 0.73946109 0.73768277 0.75438729 0.78015848 0.77196654 0.74744899\n",
      " 0.75846876 0.74846927 0.7564863  0.76601934 0.77581465 0.78219913\n",
      " 0.78004185 0.77085872 0.739257   0.73648749 0.74045228 0.74814863\n",
      " 0.74094787 0.75634057 0.76432842 0.77182072 0.75876022 0.75429984\n",
      " 0.73409694 0.78319031 0.80555059 0.81817373 0.81021506 0.80091529\n",
      " 0.8232172  0.82665722 0.82449993 0.81694936 0.82272156 0.84272046\n",
      " 0.83648171 0.85073749 0.85528533 0.85306968 0.84901749 0.84566493\n",
      " 0.83394543 0.80945706 0.80563804 0.700082  ]\n",
      "1 day output [[0.6835569]]\n",
      "2 day input [0.91796394 0.90604044 0.87286449 0.87831606 0.86548882 0.83135087\n",
      " 0.82202193 0.8382309  0.81552081 0.81753236 0.83146742 0.83455761\n",
      " 0.81837782 0.79861219 0.81811545 0.78750497 0.82540366 0.84409065\n",
      " 0.80878651 0.82904777 0.82120565 0.84511102 0.80829096 0.80065293\n",
      " 0.77106272 0.78540596 0.75931413 0.7441547  0.76097586 0.76208368\n",
      " 0.77759302 0.74045228 0.7377119  0.73602104 0.75960567 0.75660293\n",
      " 0.76505724 0.77491092 0.79630909 0.79231517 0.79391863 0.80021557\n",
      " 0.78692188 0.7832195  0.79415181 0.78805888 0.771675   0.73727463\n",
      " 0.7059936  0.71249471 0.7336888  0.71389404 0.72170698 0.73946109\n",
      " 0.73768277 0.75438729 0.78015848 0.77196654 0.74744899 0.75846876\n",
      " 0.74846927 0.7564863  0.76601934 0.77581465 0.78219913 0.78004185\n",
      " 0.77085872 0.739257   0.73648749 0.74045228 0.74814863 0.74094787\n",
      " 0.75634057 0.76432842 0.77182072 0.75876022 0.75429984 0.73409694\n",
      " 0.78319031 0.80555059 0.81817373 0.81021506 0.80091529 0.8232172\n",
      " 0.82665722 0.82449993 0.81694936 0.82272156 0.84272046 0.83648171\n",
      " 0.85073749 0.85528533 0.85306968 0.84901749 0.84566493 0.83394543\n",
      " 0.80945706 0.80563804 0.700082   0.68355691]\n",
      "2 day output [[0.6587883]]\n",
      "3 day input [0.90604044 0.87286449 0.87831606 0.86548882 0.83135087 0.82202193\n",
      " 0.8382309  0.81552081 0.81753236 0.83146742 0.83455761 0.81837782\n",
      " 0.79861219 0.81811545 0.78750497 0.82540366 0.84409065 0.80878651\n",
      " 0.82904777 0.82120565 0.84511102 0.80829096 0.80065293 0.77106272\n",
      " 0.78540596 0.75931413 0.7441547  0.76097586 0.76208368 0.77759302\n",
      " 0.74045228 0.7377119  0.73602104 0.75960567 0.75660293 0.76505724\n",
      " 0.77491092 0.79630909 0.79231517 0.79391863 0.80021557 0.78692188\n",
      " 0.7832195  0.79415181 0.78805888 0.771675   0.73727463 0.7059936\n",
      " 0.71249471 0.7336888  0.71389404 0.72170698 0.73946109 0.73768277\n",
      " 0.75438729 0.78015848 0.77196654 0.74744899 0.75846876 0.74846927\n",
      " 0.7564863  0.76601934 0.77581465 0.78219913 0.78004185 0.77085872\n",
      " 0.739257   0.73648749 0.74045228 0.74814863 0.74094787 0.75634057\n",
      " 0.76432842 0.77182072 0.75876022 0.75429984 0.73409694 0.78319031\n",
      " 0.80555059 0.81817373 0.81021506 0.80091529 0.8232172  0.82665722\n",
      " 0.82449993 0.81694936 0.82272156 0.84272046 0.83648171 0.85073749\n",
      " 0.85528533 0.85306968 0.84901749 0.84566493 0.83394543 0.80945706\n",
      " 0.80563804 0.700082   0.68355691 0.65878832]\n",
      "3 day output [[0.62806755]]\n",
      "4 day input [0.87286449 0.87831606 0.86548882 0.83135087 0.82202193 0.8382309\n",
      " 0.81552081 0.81753236 0.83146742 0.83455761 0.81837782 0.79861219\n",
      " 0.81811545 0.78750497 0.82540366 0.84409065 0.80878651 0.82904777\n",
      " 0.82120565 0.84511102 0.80829096 0.80065293 0.77106272 0.78540596\n",
      " 0.75931413 0.7441547  0.76097586 0.76208368 0.77759302 0.74045228\n",
      " 0.7377119  0.73602104 0.75960567 0.75660293 0.76505724 0.77491092\n",
      " 0.79630909 0.79231517 0.79391863 0.80021557 0.78692188 0.7832195\n",
      " 0.79415181 0.78805888 0.771675   0.73727463 0.7059936  0.71249471\n",
      " 0.7336888  0.71389404 0.72170698 0.73946109 0.73768277 0.75438729\n",
      " 0.78015848 0.77196654 0.74744899 0.75846876 0.74846927 0.7564863\n",
      " 0.76601934 0.77581465 0.78219913 0.78004185 0.77085872 0.739257\n",
      " 0.73648749 0.74045228 0.74814863 0.74094787 0.75634057 0.76432842\n",
      " 0.77182072 0.75876022 0.75429984 0.73409694 0.78319031 0.80555059\n",
      " 0.81817373 0.81021506 0.80091529 0.8232172  0.82665722 0.82449993\n",
      " 0.81694936 0.82272156 0.84272046 0.83648171 0.85073749 0.85528533\n",
      " 0.85306968 0.84901749 0.84566493 0.83394543 0.80945706 0.80563804\n",
      " 0.700082   0.68355691 0.65878832 0.62806755]\n",
      "4 day output [[0.5938496]]\n",
      "5 day input [0.87831606 0.86548882 0.83135087 0.82202193 0.8382309  0.81552081\n",
      " 0.81753236 0.83146742 0.83455761 0.81837782 0.79861219 0.81811545\n",
      " 0.78750497 0.82540366 0.84409065 0.80878651 0.82904777 0.82120565\n",
      " 0.84511102 0.80829096 0.80065293 0.77106272 0.78540596 0.75931413\n",
      " 0.7441547  0.76097586 0.76208368 0.77759302 0.74045228 0.7377119\n",
      " 0.73602104 0.75960567 0.75660293 0.76505724 0.77491092 0.79630909\n",
      " 0.79231517 0.79391863 0.80021557 0.78692188 0.7832195  0.79415181\n",
      " 0.78805888 0.771675   0.73727463 0.7059936  0.71249471 0.7336888\n",
      " 0.71389404 0.72170698 0.73946109 0.73768277 0.75438729 0.78015848\n",
      " 0.77196654 0.74744899 0.75846876 0.74846927 0.7564863  0.76601934\n",
      " 0.77581465 0.78219913 0.78004185 0.77085872 0.739257   0.73648749\n",
      " 0.74045228 0.74814863 0.74094787 0.75634057 0.76432842 0.77182072\n",
      " 0.75876022 0.75429984 0.73409694 0.78319031 0.80555059 0.81817373\n",
      " 0.81021506 0.80091529 0.8232172  0.82665722 0.82449993 0.81694936\n",
      " 0.82272156 0.84272046 0.83648171 0.85073749 0.85528533 0.85306968\n",
      " 0.84901749 0.84566493 0.83394543 0.80945706 0.80563804 0.700082\n",
      " 0.68355691 0.65878832 0.62806755 0.5938496 ]\n",
      "5 day output [[0.55816907]]\n",
      "6 day input [0.86548882 0.83135087 0.82202193 0.8382309  0.81552081 0.81753236\n",
      " 0.83146742 0.83455761 0.81837782 0.79861219 0.81811545 0.78750497\n",
      " 0.82540366 0.84409065 0.80878651 0.82904777 0.82120565 0.84511102\n",
      " 0.80829096 0.80065293 0.77106272 0.78540596 0.75931413 0.7441547\n",
      " 0.76097586 0.76208368 0.77759302 0.74045228 0.7377119  0.73602104\n",
      " 0.75960567 0.75660293 0.76505724 0.77491092 0.79630909 0.79231517\n",
      " 0.79391863 0.80021557 0.78692188 0.7832195  0.79415181 0.78805888\n",
      " 0.771675   0.73727463 0.7059936  0.71249471 0.7336888  0.71389404\n",
      " 0.72170698 0.73946109 0.73768277 0.75438729 0.78015848 0.77196654\n",
      " 0.74744899 0.75846876 0.74846927 0.7564863  0.76601934 0.77581465\n",
      " 0.78219913 0.78004185 0.77085872 0.739257   0.73648749 0.74045228\n",
      " 0.74814863 0.74094787 0.75634057 0.76432842 0.77182072 0.75876022\n",
      " 0.75429984 0.73409694 0.78319031 0.80555059 0.81817373 0.81021506\n",
      " 0.80091529 0.8232172  0.82665722 0.82449993 0.81694936 0.82272156\n",
      " 0.84272046 0.83648171 0.85073749 0.85528533 0.85306968 0.84901749\n",
      " 0.84566493 0.83394543 0.80945706 0.80563804 0.700082   0.68355691\n",
      " 0.65878832 0.62806755 0.5938496  0.55816907]\n",
      "6 day output [[0.5225342]]\n",
      "7 day input [0.83135087 0.82202193 0.8382309  0.81552081 0.81753236 0.83146742\n",
      " 0.83455761 0.81837782 0.79861219 0.81811545 0.78750497 0.82540366\n",
      " 0.84409065 0.80878651 0.82904777 0.82120565 0.84511102 0.80829096\n",
      " 0.80065293 0.77106272 0.78540596 0.75931413 0.7441547  0.76097586\n",
      " 0.76208368 0.77759302 0.74045228 0.7377119  0.73602104 0.75960567\n",
      " 0.75660293 0.76505724 0.77491092 0.79630909 0.79231517 0.79391863\n",
      " 0.80021557 0.78692188 0.7832195  0.79415181 0.78805888 0.771675\n",
      " 0.73727463 0.7059936  0.71249471 0.7336888  0.71389404 0.72170698\n",
      " 0.73946109 0.73768277 0.75438729 0.78015848 0.77196654 0.74744899\n",
      " 0.75846876 0.74846927 0.7564863  0.76601934 0.77581465 0.78219913\n",
      " 0.78004185 0.77085872 0.739257   0.73648749 0.74045228 0.74814863\n",
      " 0.74094787 0.75634057 0.76432842 0.77182072 0.75876022 0.75429984\n",
      " 0.73409694 0.78319031 0.80555059 0.81817373 0.81021506 0.80091529\n",
      " 0.8232172  0.82665722 0.82449993 0.81694936 0.82272156 0.84272046\n",
      " 0.83648171 0.85073749 0.85528533 0.85306968 0.84901749 0.84566493\n",
      " 0.83394543 0.80945706 0.80563804 0.700082   0.68355691 0.65878832\n",
      " 0.62806755 0.5938496  0.55816907 0.52253419]\n",
      "7 day output [[0.48801312]]\n",
      "8 day input [0.82202193 0.8382309  0.81552081 0.81753236 0.83146742 0.83455761\n",
      " 0.81837782 0.79861219 0.81811545 0.78750497 0.82540366 0.84409065\n",
      " 0.80878651 0.82904777 0.82120565 0.84511102 0.80829096 0.80065293\n",
      " 0.77106272 0.78540596 0.75931413 0.7441547  0.76097586 0.76208368\n",
      " 0.77759302 0.74045228 0.7377119  0.73602104 0.75960567 0.75660293\n",
      " 0.76505724 0.77491092 0.79630909 0.79231517 0.79391863 0.80021557\n",
      " 0.78692188 0.7832195  0.79415181 0.78805888 0.771675   0.73727463\n",
      " 0.7059936  0.71249471 0.7336888  0.71389404 0.72170698 0.73946109\n",
      " 0.73768277 0.75438729 0.78015848 0.77196654 0.74744899 0.75846876\n",
      " 0.74846927 0.7564863  0.76601934 0.77581465 0.78219913 0.78004185\n",
      " 0.77085872 0.739257   0.73648749 0.74045228 0.74814863 0.74094787\n",
      " 0.75634057 0.76432842 0.77182072 0.75876022 0.75429984 0.73409694\n",
      " 0.78319031 0.80555059 0.81817373 0.81021506 0.80091529 0.8232172\n",
      " 0.82665722 0.82449993 0.81694936 0.82272156 0.84272046 0.83648171\n",
      " 0.85073749 0.85528533 0.85306968 0.84901749 0.84566493 0.83394543\n",
      " 0.80945706 0.80563804 0.700082   0.68355691 0.65878832 0.62806755\n",
      " 0.5938496  0.55816907 0.52253419 0.48801312]\n",
      "8 day output [[0.45535767]]\n",
      "9 day input [0.8382309  0.81552081 0.81753236 0.83146742 0.83455761 0.81837782\n",
      " 0.79861219 0.81811545 0.78750497 0.82540366 0.84409065 0.80878651\n",
      " 0.82904777 0.82120565 0.84511102 0.80829096 0.80065293 0.77106272\n",
      " 0.78540596 0.75931413 0.7441547  0.76097586 0.76208368 0.77759302\n",
      " 0.74045228 0.7377119  0.73602104 0.75960567 0.75660293 0.76505724\n",
      " 0.77491092 0.79630909 0.79231517 0.79391863 0.80021557 0.78692188\n",
      " 0.7832195  0.79415181 0.78805888 0.771675   0.73727463 0.7059936\n",
      " 0.71249471 0.7336888  0.71389404 0.72170698 0.73946109 0.73768277\n",
      " 0.75438729 0.78015848 0.77196654 0.74744899 0.75846876 0.74846927\n",
      " 0.7564863  0.76601934 0.77581465 0.78219913 0.78004185 0.77085872\n",
      " 0.739257   0.73648749 0.74045228 0.74814863 0.74094787 0.75634057\n",
      " 0.76432842 0.77182072 0.75876022 0.75429984 0.73409694 0.78319031\n",
      " 0.80555059 0.81817373 0.81021506 0.80091529 0.8232172  0.82665722\n",
      " 0.82449993 0.81694936 0.82272156 0.84272046 0.83648171 0.85073749\n",
      " 0.85528533 0.85306968 0.84901749 0.84566493 0.83394543 0.80945706\n",
      " 0.80563804 0.700082   0.68355691 0.65878832 0.62806755 0.5938496\n",
      " 0.55816907 0.52253419 0.48801312 0.45535767]\n",
      "9 day output [[0.42510208]]\n",
      "10 day input [0.81552081 0.81753236 0.83146742 0.83455761 0.81837782 0.79861219\n",
      " 0.81811545 0.78750497 0.82540366 0.84409065 0.80878651 0.82904777\n",
      " 0.82120565 0.84511102 0.80829096 0.80065293 0.77106272 0.78540596\n",
      " 0.75931413 0.7441547  0.76097586 0.76208368 0.77759302 0.74045228\n",
      " 0.7377119  0.73602104 0.75960567 0.75660293 0.76505724 0.77491092\n",
      " 0.79630909 0.79231517 0.79391863 0.80021557 0.78692188 0.7832195\n",
      " 0.79415181 0.78805888 0.771675   0.73727463 0.7059936  0.71249471\n",
      " 0.7336888  0.71389404 0.72170698 0.73946109 0.73768277 0.75438729\n",
      " 0.78015848 0.77196654 0.74744899 0.75846876 0.74846927 0.7564863\n",
      " 0.76601934 0.77581465 0.78219913 0.78004185 0.77085872 0.739257\n",
      " 0.73648749 0.74045228 0.74814863 0.74094787 0.75634057 0.76432842\n",
      " 0.77182072 0.75876022 0.75429984 0.73409694 0.78319031 0.80555059\n",
      " 0.81817373 0.81021506 0.80091529 0.8232172  0.82665722 0.82449993\n",
      " 0.81694936 0.82272156 0.84272046 0.83648171 0.85073749 0.85528533\n",
      " 0.85306968 0.84901749 0.84566493 0.83394543 0.80945706 0.80563804\n",
      " 0.700082   0.68355691 0.65878832 0.62806755 0.5938496  0.55816907\n",
      " 0.52253419 0.48801312 0.45535767 0.42510208]\n",
      "10 day output [[0.3976227]]\n",
      "11 day input [0.81753236 0.83146742 0.83455761 0.81837782 0.79861219 0.81811545\n",
      " 0.78750497 0.82540366 0.84409065 0.80878651 0.82904777 0.82120565\n",
      " 0.84511102 0.80829096 0.80065293 0.77106272 0.78540596 0.75931413\n",
      " 0.7441547  0.76097586 0.76208368 0.77759302 0.74045228 0.7377119\n",
      " 0.73602104 0.75960567 0.75660293 0.76505724 0.77491092 0.79630909\n",
      " 0.79231517 0.79391863 0.80021557 0.78692188 0.7832195  0.79415181\n",
      " 0.78805888 0.771675   0.73727463 0.7059936  0.71249471 0.7336888\n",
      " 0.71389404 0.72170698 0.73946109 0.73768277 0.75438729 0.78015848\n",
      " 0.77196654 0.74744899 0.75846876 0.74846927 0.7564863  0.76601934\n",
      " 0.77581465 0.78219913 0.78004185 0.77085872 0.739257   0.73648749\n",
      " 0.74045228 0.74814863 0.74094787 0.75634057 0.76432842 0.77182072\n",
      " 0.75876022 0.75429984 0.73409694 0.78319031 0.80555059 0.81817373\n",
      " 0.81021506 0.80091529 0.8232172  0.82665722 0.82449993 0.81694936\n",
      " 0.82272156 0.84272046 0.83648171 0.85073749 0.85528533 0.85306968\n",
      " 0.84901749 0.84566493 0.83394543 0.80945706 0.80563804 0.700082\n",
      " 0.68355691 0.65878832 0.62806755 0.5938496  0.55816907 0.52253419\n",
      " 0.48801312 0.45535767 0.42510208 0.3976227 ]\n",
      "11 day output [[0.37316927]]\n",
      "12 day input [0.83146742 0.83455761 0.81837782 0.79861219 0.81811545 0.78750497\n",
      " 0.82540366 0.84409065 0.80878651 0.82904777 0.82120565 0.84511102\n",
      " 0.80829096 0.80065293 0.77106272 0.78540596 0.75931413 0.7441547\n",
      " 0.76097586 0.76208368 0.77759302 0.74045228 0.7377119  0.73602104\n",
      " 0.75960567 0.75660293 0.76505724 0.77491092 0.79630909 0.79231517\n",
      " 0.79391863 0.80021557 0.78692188 0.7832195  0.79415181 0.78805888\n",
      " 0.771675   0.73727463 0.7059936  0.71249471 0.7336888  0.71389404\n",
      " 0.72170698 0.73946109 0.73768277 0.75438729 0.78015848 0.77196654\n",
      " 0.74744899 0.75846876 0.74846927 0.7564863  0.76601934 0.77581465\n",
      " 0.78219913 0.78004185 0.77085872 0.739257   0.73648749 0.74045228\n",
      " 0.74814863 0.74094787 0.75634057 0.76432842 0.77182072 0.75876022\n",
      " 0.75429984 0.73409694 0.78319031 0.80555059 0.81817373 0.81021506\n",
      " 0.80091529 0.8232172  0.82665722 0.82449993 0.81694936 0.82272156\n",
      " 0.84272046 0.83648171 0.85073749 0.85528533 0.85306968 0.84901749\n",
      " 0.84566493 0.83394543 0.80945706 0.80563804 0.700082   0.68355691\n",
      " 0.65878832 0.62806755 0.5938496  0.55816907 0.52253419 0.48801312\n",
      " 0.45535767 0.42510208 0.3976227  0.37316927]\n",
      "12 day output [[0.35187843]]\n",
      "13 day input [0.83455761 0.81837782 0.79861219 0.81811545 0.78750497 0.82540366\n",
      " 0.84409065 0.80878651 0.82904777 0.82120565 0.84511102 0.80829096\n",
      " 0.80065293 0.77106272 0.78540596 0.75931413 0.7441547  0.76097586\n",
      " 0.76208368 0.77759302 0.74045228 0.7377119  0.73602104 0.75960567\n",
      " 0.75660293 0.76505724 0.77491092 0.79630909 0.79231517 0.79391863\n",
      " 0.80021557 0.78692188 0.7832195  0.79415181 0.78805888 0.771675\n",
      " 0.73727463 0.7059936  0.71249471 0.7336888  0.71389404 0.72170698\n",
      " 0.73946109 0.73768277 0.75438729 0.78015848 0.77196654 0.74744899\n",
      " 0.75846876 0.74846927 0.7564863  0.76601934 0.77581465 0.78219913\n",
      " 0.78004185 0.77085872 0.739257   0.73648749 0.74045228 0.74814863\n",
      " 0.74094787 0.75634057 0.76432842 0.77182072 0.75876022 0.75429984\n",
      " 0.73409694 0.78319031 0.80555059 0.81817373 0.81021506 0.80091529\n",
      " 0.8232172  0.82665722 0.82449993 0.81694936 0.82272156 0.84272046\n",
      " 0.83648171 0.85073749 0.85528533 0.85306968 0.84901749 0.84566493\n",
      " 0.83394543 0.80945706 0.80563804 0.700082   0.68355691 0.65878832\n",
      " 0.62806755 0.5938496  0.55816907 0.52253419 0.48801312 0.45535767\n",
      " 0.42510208 0.3976227  0.37316927 0.35187843]\n",
      "13 day output [[0.3337854]]\n",
      "14 day input [0.81837782 0.79861219 0.81811545 0.78750497 0.82540366 0.84409065\n",
      " 0.80878651 0.82904777 0.82120565 0.84511102 0.80829096 0.80065293\n",
      " 0.77106272 0.78540596 0.75931413 0.7441547  0.76097586 0.76208368\n",
      " 0.77759302 0.74045228 0.7377119  0.73602104 0.75960567 0.75660293\n",
      " 0.76505724 0.77491092 0.79630909 0.79231517 0.79391863 0.80021557\n",
      " 0.78692188 0.7832195  0.79415181 0.78805888 0.771675   0.73727463\n",
      " 0.7059936  0.71249471 0.7336888  0.71389404 0.72170698 0.73946109\n",
      " 0.73768277 0.75438729 0.78015848 0.77196654 0.74744899 0.75846876\n",
      " 0.74846927 0.7564863  0.76601934 0.77581465 0.78219913 0.78004185\n",
      " 0.77085872 0.739257   0.73648749 0.74045228 0.74814863 0.74094787\n",
      " 0.75634057 0.76432842 0.77182072 0.75876022 0.75429984 0.73409694\n",
      " 0.78319031 0.80555059 0.81817373 0.81021506 0.80091529 0.8232172\n",
      " 0.82665722 0.82449993 0.81694936 0.82272156 0.84272046 0.83648171\n",
      " 0.85073749 0.85528533 0.85306968 0.84901749 0.84566493 0.83394543\n",
      " 0.80945706 0.80563804 0.700082   0.68355691 0.65878832 0.62806755\n",
      " 0.5938496  0.55816907 0.52253419 0.48801312 0.45535767 0.42510208\n",
      " 0.3976227  0.37316927 0.35187843 0.33378541]\n",
      "14 day output [[0.31883663]]\n",
      "15 day input [0.79861219 0.81811545 0.78750497 0.82540366 0.84409065 0.80878651\n",
      " 0.82904777 0.82120565 0.84511102 0.80829096 0.80065293 0.77106272\n",
      " 0.78540596 0.75931413 0.7441547  0.76097586 0.76208368 0.77759302\n",
      " 0.74045228 0.7377119  0.73602104 0.75960567 0.75660293 0.76505724\n",
      " 0.77491092 0.79630909 0.79231517 0.79391863 0.80021557 0.78692188\n",
      " 0.7832195  0.79415181 0.78805888 0.771675   0.73727463 0.7059936\n",
      " 0.71249471 0.7336888  0.71389404 0.72170698 0.73946109 0.73768277\n",
      " 0.75438729 0.78015848 0.77196654 0.74744899 0.75846876 0.74846927\n",
      " 0.7564863  0.76601934 0.77581465 0.78219913 0.78004185 0.77085872\n",
      " 0.739257   0.73648749 0.74045228 0.74814863 0.74094787 0.75634057\n",
      " 0.76432842 0.77182072 0.75876022 0.75429984 0.73409694 0.78319031\n",
      " 0.80555059 0.81817373 0.81021506 0.80091529 0.8232172  0.82665722\n",
      " 0.82449993 0.81694936 0.82272156 0.84272046 0.83648171 0.85073749\n",
      " 0.85528533 0.85306968 0.84901749 0.84566493 0.83394543 0.80945706\n",
      " 0.80563804 0.700082   0.68355691 0.65878832 0.62806755 0.5938496\n",
      " 0.55816907 0.52253419 0.48801312 0.45535767 0.42510208 0.3976227\n",
      " 0.37316927 0.35187843 0.33378541 0.31883663]\n",
      "15 day output [[0.30690578]]\n",
      "16 day input [0.81811545 0.78750497 0.82540366 0.84409065 0.80878651 0.82904777\n",
      " 0.82120565 0.84511102 0.80829096 0.80065293 0.77106272 0.78540596\n",
      " 0.75931413 0.7441547  0.76097586 0.76208368 0.77759302 0.74045228\n",
      " 0.7377119  0.73602104 0.75960567 0.75660293 0.76505724 0.77491092\n",
      " 0.79630909 0.79231517 0.79391863 0.80021557 0.78692188 0.7832195\n",
      " 0.79415181 0.78805888 0.771675   0.73727463 0.7059936  0.71249471\n",
      " 0.7336888  0.71389404 0.72170698 0.73946109 0.73768277 0.75438729\n",
      " 0.78015848 0.77196654 0.74744899 0.75846876 0.74846927 0.7564863\n",
      " 0.76601934 0.77581465 0.78219913 0.78004185 0.77085872 0.739257\n",
      " 0.73648749 0.74045228 0.74814863 0.74094787 0.75634057 0.76432842\n",
      " 0.77182072 0.75876022 0.75429984 0.73409694 0.78319031 0.80555059\n",
      " 0.81817373 0.81021506 0.80091529 0.8232172  0.82665722 0.82449993\n",
      " 0.81694936 0.82272156 0.84272046 0.83648171 0.85073749 0.85528533\n",
      " 0.85306968 0.84901749 0.84566493 0.83394543 0.80945706 0.80563804\n",
      " 0.700082   0.68355691 0.65878832 0.62806755 0.5938496  0.55816907\n",
      " 0.52253419 0.48801312 0.45535767 0.42510208 0.3976227  0.37316927\n",
      " 0.35187843 0.33378541 0.31883663 0.30690578]\n",
      "16 day output [[0.2978093]]\n",
      "17 day input [0.78750497 0.82540366 0.84409065 0.80878651 0.82904777 0.82120565\n",
      " 0.84511102 0.80829096 0.80065293 0.77106272 0.78540596 0.75931413\n",
      " 0.7441547  0.76097586 0.76208368 0.77759302 0.74045228 0.7377119\n",
      " 0.73602104 0.75960567 0.75660293 0.76505724 0.77491092 0.79630909\n",
      " 0.79231517 0.79391863 0.80021557 0.78692188 0.7832195  0.79415181\n",
      " 0.78805888 0.771675   0.73727463 0.7059936  0.71249471 0.7336888\n",
      " 0.71389404 0.72170698 0.73946109 0.73768277 0.75438729 0.78015848\n",
      " 0.77196654 0.74744899 0.75846876 0.74846927 0.7564863  0.76601934\n",
      " 0.77581465 0.78219913 0.78004185 0.77085872 0.739257   0.73648749\n",
      " 0.74045228 0.74814863 0.74094787 0.75634057 0.76432842 0.77182072\n",
      " 0.75876022 0.75429984 0.73409694 0.78319031 0.80555059 0.81817373\n",
      " 0.81021506 0.80091529 0.8232172  0.82665722 0.82449993 0.81694936\n",
      " 0.82272156 0.84272046 0.83648171 0.85073749 0.85528533 0.85306968\n",
      " 0.84901749 0.84566493 0.83394543 0.80945706 0.80563804 0.700082\n",
      " 0.68355691 0.65878832 0.62806755 0.5938496  0.55816907 0.52253419\n",
      " 0.48801312 0.45535767 0.42510208 0.3976227  0.37316927 0.35187843\n",
      " 0.33378541 0.31883663 0.30690578 0.2978093 ]\n",
      "17 day output [[0.29132226]]\n",
      "18 day input [0.82540366 0.84409065 0.80878651 0.82904777 0.82120565 0.84511102\n",
      " 0.80829096 0.80065293 0.77106272 0.78540596 0.75931413 0.7441547\n",
      " 0.76097586 0.76208368 0.77759302 0.74045228 0.7377119  0.73602104\n",
      " 0.75960567 0.75660293 0.76505724 0.77491092 0.79630909 0.79231517\n",
      " 0.79391863 0.80021557 0.78692188 0.7832195  0.79415181 0.78805888\n",
      " 0.771675   0.73727463 0.7059936  0.71249471 0.7336888  0.71389404\n",
      " 0.72170698 0.73946109 0.73768277 0.75438729 0.78015848 0.77196654\n",
      " 0.74744899 0.75846876 0.74846927 0.7564863  0.76601934 0.77581465\n",
      " 0.78219913 0.78004185 0.77085872 0.739257   0.73648749 0.74045228\n",
      " 0.74814863 0.74094787 0.75634057 0.76432842 0.77182072 0.75876022\n",
      " 0.75429984 0.73409694 0.78319031 0.80555059 0.81817373 0.81021506\n",
      " 0.80091529 0.8232172  0.82665722 0.82449993 0.81694936 0.82272156\n",
      " 0.84272046 0.83648171 0.85073749 0.85528533 0.85306968 0.84901749\n",
      " 0.84566493 0.83394543 0.80945706 0.80563804 0.700082   0.68355691\n",
      " 0.65878832 0.62806755 0.5938496  0.55816907 0.52253419 0.48801312\n",
      " 0.45535767 0.42510208 0.3976227  0.37316927 0.35187843 0.33378541\n",
      " 0.31883663 0.30690578 0.2978093  0.29132226]\n",
      "18 day output [[0.2871905]]\n",
      "19 day input [0.84409065 0.80878651 0.82904777 0.82120565 0.84511102 0.80829096\n",
      " 0.80065293 0.77106272 0.78540596 0.75931413 0.7441547  0.76097586\n",
      " 0.76208368 0.77759302 0.74045228 0.7377119  0.73602104 0.75960567\n",
      " 0.75660293 0.76505724 0.77491092 0.79630909 0.79231517 0.79391863\n",
      " 0.80021557 0.78692188 0.7832195  0.79415181 0.78805888 0.771675\n",
      " 0.73727463 0.7059936  0.71249471 0.7336888  0.71389404 0.72170698\n",
      " 0.73946109 0.73768277 0.75438729 0.78015848 0.77196654 0.74744899\n",
      " 0.75846876 0.74846927 0.7564863  0.76601934 0.77581465 0.78219913\n",
      " 0.78004185 0.77085872 0.739257   0.73648749 0.74045228 0.74814863\n",
      " 0.74094787 0.75634057 0.76432842 0.77182072 0.75876022 0.75429984\n",
      " 0.73409694 0.78319031 0.80555059 0.81817373 0.81021506 0.80091529\n",
      " 0.8232172  0.82665722 0.82449993 0.81694936 0.82272156 0.84272046\n",
      " 0.83648171 0.85073749 0.85528533 0.85306968 0.84901749 0.84566493\n",
      " 0.83394543 0.80945706 0.80563804 0.700082   0.68355691 0.65878832\n",
      " 0.62806755 0.5938496  0.55816907 0.52253419 0.48801312 0.45535767\n",
      " 0.42510208 0.3976227  0.37316927 0.35187843 0.33378541 0.31883663\n",
      " 0.30690578 0.2978093  0.29132226 0.2871905 ]\n",
      "19 day output [[0.28514126]]\n",
      "20 day input [0.80878651 0.82904777 0.82120565 0.84511102 0.80829096 0.80065293\n",
      " 0.77106272 0.78540596 0.75931413 0.7441547  0.76097586 0.76208368\n",
      " 0.77759302 0.74045228 0.7377119  0.73602104 0.75960567 0.75660293\n",
      " 0.76505724 0.77491092 0.79630909 0.79231517 0.79391863 0.80021557\n",
      " 0.78692188 0.7832195  0.79415181 0.78805888 0.771675   0.73727463\n",
      " 0.7059936  0.71249471 0.7336888  0.71389404 0.72170698 0.73946109\n",
      " 0.73768277 0.75438729 0.78015848 0.77196654 0.74744899 0.75846876\n",
      " 0.74846927 0.7564863  0.76601934 0.77581465 0.78219913 0.78004185\n",
      " 0.77085872 0.739257   0.73648749 0.74045228 0.74814863 0.74094787\n",
      " 0.75634057 0.76432842 0.77182072 0.75876022 0.75429984 0.73409694\n",
      " 0.78319031 0.80555059 0.81817373 0.81021506 0.80091529 0.8232172\n",
      " 0.82665722 0.82449993 0.81694936 0.82272156 0.84272046 0.83648171\n",
      " 0.85073749 0.85528533 0.85306968 0.84901749 0.84566493 0.83394543\n",
      " 0.80945706 0.80563804 0.700082   0.68355691 0.65878832 0.62806755\n",
      " 0.5938496  0.55816907 0.52253419 0.48801312 0.45535767 0.42510208\n",
      " 0.3976227  0.37316927 0.35187843 0.33378541 0.31883663 0.30690578\n",
      " 0.2978093  0.29132226 0.2871905  0.28514126]\n",
      "20 day output [[0.28489032]]\n",
      "21 day input [0.82904777 0.82120565 0.84511102 0.80829096 0.80065293 0.77106272\n",
      " 0.78540596 0.75931413 0.7441547  0.76097586 0.76208368 0.77759302\n",
      " 0.74045228 0.7377119  0.73602104 0.75960567 0.75660293 0.76505724\n",
      " 0.77491092 0.79630909 0.79231517 0.79391863 0.80021557 0.78692188\n",
      " 0.7832195  0.79415181 0.78805888 0.771675   0.73727463 0.7059936\n",
      " 0.71249471 0.7336888  0.71389404 0.72170698 0.73946109 0.73768277\n",
      " 0.75438729 0.78015848 0.77196654 0.74744899 0.75846876 0.74846927\n",
      " 0.7564863  0.76601934 0.77581465 0.78219913 0.78004185 0.77085872\n",
      " 0.739257   0.73648749 0.74045228 0.74814863 0.74094787 0.75634057\n",
      " 0.76432842 0.77182072 0.75876022 0.75429984 0.73409694 0.78319031\n",
      " 0.80555059 0.81817373 0.81021506 0.80091529 0.8232172  0.82665722\n",
      " 0.82449993 0.81694936 0.82272156 0.84272046 0.83648171 0.85073749\n",
      " 0.85528533 0.85306968 0.84901749 0.84566493 0.83394543 0.80945706\n",
      " 0.80563804 0.700082   0.68355691 0.65878832 0.62806755 0.5938496\n",
      " 0.55816907 0.52253419 0.48801312 0.45535767 0.42510208 0.3976227\n",
      " 0.37316927 0.35187843 0.33378541 0.31883663 0.30690578 0.2978093\n",
      " 0.29132226 0.2871905  0.28514126 0.28489032]\n",
      "21 day output [[0.28614873]]\n",
      "22 day input [0.82120565 0.84511102 0.80829096 0.80065293 0.77106272 0.78540596\n",
      " 0.75931413 0.7441547  0.76097586 0.76208368 0.77759302 0.74045228\n",
      " 0.7377119  0.73602104 0.75960567 0.75660293 0.76505724 0.77491092\n",
      " 0.79630909 0.79231517 0.79391863 0.80021557 0.78692188 0.7832195\n",
      " 0.79415181 0.78805888 0.771675   0.73727463 0.7059936  0.71249471\n",
      " 0.7336888  0.71389404 0.72170698 0.73946109 0.73768277 0.75438729\n",
      " 0.78015848 0.77196654 0.74744899 0.75846876 0.74846927 0.7564863\n",
      " 0.76601934 0.77581465 0.78219913 0.78004185 0.77085872 0.739257\n",
      " 0.73648749 0.74045228 0.74814863 0.74094787 0.75634057 0.76432842\n",
      " 0.77182072 0.75876022 0.75429984 0.73409694 0.78319031 0.80555059\n",
      " 0.81817373 0.81021506 0.80091529 0.8232172  0.82665722 0.82449993\n",
      " 0.81694936 0.82272156 0.84272046 0.83648171 0.85073749 0.85528533\n",
      " 0.85306968 0.84901749 0.84566493 0.83394543 0.80945706 0.80563804\n",
      " 0.700082   0.68355691 0.65878832 0.62806755 0.5938496  0.55816907\n",
      " 0.52253419 0.48801312 0.45535767 0.42510208 0.3976227  0.37316927\n",
      " 0.35187843 0.33378541 0.31883663 0.30690578 0.2978093  0.29132226\n",
      " 0.2871905  0.28514126 0.28489032 0.28614873]\n",
      "22 day output [[0.2886279]]\n",
      "23 day input [0.84511102 0.80829096 0.80065293 0.77106272 0.78540596 0.75931413\n",
      " 0.7441547  0.76097586 0.76208368 0.77759302 0.74045228 0.7377119\n",
      " 0.73602104 0.75960567 0.75660293 0.76505724 0.77491092 0.79630909\n",
      " 0.79231517 0.79391863 0.80021557 0.78692188 0.7832195  0.79415181\n",
      " 0.78805888 0.771675   0.73727463 0.7059936  0.71249471 0.7336888\n",
      " 0.71389404 0.72170698 0.73946109 0.73768277 0.75438729 0.78015848\n",
      " 0.77196654 0.74744899 0.75846876 0.74846927 0.7564863  0.76601934\n",
      " 0.77581465 0.78219913 0.78004185 0.77085872 0.739257   0.73648749\n",
      " 0.74045228 0.74814863 0.74094787 0.75634057 0.76432842 0.77182072\n",
      " 0.75876022 0.75429984 0.73409694 0.78319031 0.80555059 0.81817373\n",
      " 0.81021506 0.80091529 0.8232172  0.82665722 0.82449993 0.81694936\n",
      " 0.82272156 0.84272046 0.83648171 0.85073749 0.85528533 0.85306968\n",
      " 0.84901749 0.84566493 0.83394543 0.80945706 0.80563804 0.700082\n",
      " 0.68355691 0.65878832 0.62806755 0.5938496  0.55816907 0.52253419\n",
      " 0.48801312 0.45535767 0.42510208 0.3976227  0.37316927 0.35187843\n",
      " 0.33378541 0.31883663 0.30690578 0.2978093  0.29132226 0.2871905\n",
      " 0.28514126 0.28489032 0.28614873 0.28862789]\n",
      "23 day output [[0.2920443]]\n",
      "24 day input [0.80829096 0.80065293 0.77106272 0.78540596 0.75931413 0.7441547\n",
      " 0.76097586 0.76208368 0.77759302 0.74045228 0.7377119  0.73602104\n",
      " 0.75960567 0.75660293 0.76505724 0.77491092 0.79630909 0.79231517\n",
      " 0.79391863 0.80021557 0.78692188 0.7832195  0.79415181 0.78805888\n",
      " 0.771675   0.73727463 0.7059936  0.71249471 0.7336888  0.71389404\n",
      " 0.72170698 0.73946109 0.73768277 0.75438729 0.78015848 0.77196654\n",
      " 0.74744899 0.75846876 0.74846927 0.7564863  0.76601934 0.77581465\n",
      " 0.78219913 0.78004185 0.77085872 0.739257   0.73648749 0.74045228\n",
      " 0.74814863 0.74094787 0.75634057 0.76432842 0.77182072 0.75876022\n",
      " 0.75429984 0.73409694 0.78319031 0.80555059 0.81817373 0.81021506\n",
      " 0.80091529 0.8232172  0.82665722 0.82449993 0.81694936 0.82272156\n",
      " 0.84272046 0.83648171 0.85073749 0.85528533 0.85306968 0.84901749\n",
      " 0.84566493 0.83394543 0.80945706 0.80563804 0.700082   0.68355691\n",
      " 0.65878832 0.62806755 0.5938496  0.55816907 0.52253419 0.48801312\n",
      " 0.45535767 0.42510208 0.3976227  0.37316927 0.35187843 0.33378541\n",
      " 0.31883663 0.30690578 0.2978093  0.29132226 0.2871905  0.28514126\n",
      " 0.28489032 0.28614873 0.28862789 0.29204431]\n",
      "24 day output [[0.29612473]]\n",
      "25 day input [0.80065293 0.77106272 0.78540596 0.75931413 0.7441547  0.76097586\n",
      " 0.76208368 0.77759302 0.74045228 0.7377119  0.73602104 0.75960567\n",
      " 0.75660293 0.76505724 0.77491092 0.79630909 0.79231517 0.79391863\n",
      " 0.80021557 0.78692188 0.7832195  0.79415181 0.78805888 0.771675\n",
      " 0.73727463 0.7059936  0.71249471 0.7336888  0.71389404 0.72170698\n",
      " 0.73946109 0.73768277 0.75438729 0.78015848 0.77196654 0.74744899\n",
      " 0.75846876 0.74846927 0.7564863  0.76601934 0.77581465 0.78219913\n",
      " 0.78004185 0.77085872 0.739257   0.73648749 0.74045228 0.74814863\n",
      " 0.74094787 0.75634057 0.76432842 0.77182072 0.75876022 0.75429984\n",
      " 0.73409694 0.78319031 0.80555059 0.81817373 0.81021506 0.80091529\n",
      " 0.8232172  0.82665722 0.82449993 0.81694936 0.82272156 0.84272046\n",
      " 0.83648171 0.85073749 0.85528533 0.85306968 0.84901749 0.84566493\n",
      " 0.83394543 0.80945706 0.80563804 0.700082   0.68355691 0.65878832\n",
      " 0.62806755 0.5938496  0.55816907 0.52253419 0.48801312 0.45535767\n",
      " 0.42510208 0.3976227  0.37316927 0.35187843 0.33378541 0.31883663\n",
      " 0.30690578 0.2978093  0.29132226 0.2871905  0.28514126 0.28489032\n",
      " 0.28614873 0.28862789 0.29204431 0.29612473]\n",
      "25 day output [[0.30060992]]\n",
      "26 day input [0.77106272 0.78540596 0.75931413 0.7441547  0.76097586 0.76208368\n",
      " 0.77759302 0.74045228 0.7377119  0.73602104 0.75960567 0.75660293\n",
      " 0.76505724 0.77491092 0.79630909 0.79231517 0.79391863 0.80021557\n",
      " 0.78692188 0.7832195  0.79415181 0.78805888 0.771675   0.73727463\n",
      " 0.7059936  0.71249471 0.7336888  0.71389404 0.72170698 0.73946109\n",
      " 0.73768277 0.75438729 0.78015848 0.77196654 0.74744899 0.75846876\n",
      " 0.74846927 0.7564863  0.76601934 0.77581465 0.78219913 0.78004185\n",
      " 0.77085872 0.739257   0.73648749 0.74045228 0.74814863 0.74094787\n",
      " 0.75634057 0.76432842 0.77182072 0.75876022 0.75429984 0.73409694\n",
      " 0.78319031 0.80555059 0.81817373 0.81021506 0.80091529 0.8232172\n",
      " 0.82665722 0.82449993 0.81694936 0.82272156 0.84272046 0.83648171\n",
      " 0.85073749 0.85528533 0.85306968 0.84901749 0.84566493 0.83394543\n",
      " 0.80945706 0.80563804 0.700082   0.68355691 0.65878832 0.62806755\n",
      " 0.5938496  0.55816907 0.52253419 0.48801312 0.45535767 0.42510208\n",
      " 0.3976227  0.37316927 0.35187843 0.33378541 0.31883663 0.30690578\n",
      " 0.2978093  0.29132226 0.2871905  0.28514126 0.28489032 0.28614873\n",
      " 0.28862789 0.29204431 0.29612473 0.30060992]\n",
      "26 day output [[0.30525923]]\n",
      "27 day input [0.78540596 0.75931413 0.7441547  0.76097586 0.76208368 0.77759302\n",
      " 0.74045228 0.7377119  0.73602104 0.75960567 0.75660293 0.76505724\n",
      " 0.77491092 0.79630909 0.79231517 0.79391863 0.80021557 0.78692188\n",
      " 0.7832195  0.79415181 0.78805888 0.771675   0.73727463 0.7059936\n",
      " 0.71249471 0.7336888  0.71389404 0.72170698 0.73946109 0.73768277\n",
      " 0.75438729 0.78015848 0.77196654 0.74744899 0.75846876 0.74846927\n",
      " 0.7564863  0.76601934 0.77581465 0.78219913 0.78004185 0.77085872\n",
      " 0.739257   0.73648749 0.74045228 0.74814863 0.74094787 0.75634057\n",
      " 0.76432842 0.77182072 0.75876022 0.75429984 0.73409694 0.78319031\n",
      " 0.80555059 0.81817373 0.81021506 0.80091529 0.8232172  0.82665722\n",
      " 0.82449993 0.81694936 0.82272156 0.84272046 0.83648171 0.85073749\n",
      " 0.85528533 0.85306968 0.84901749 0.84566493 0.83394543 0.80945706\n",
      " 0.80563804 0.700082   0.68355691 0.65878832 0.62806755 0.5938496\n",
      " 0.55816907 0.52253419 0.48801312 0.45535767 0.42510208 0.3976227\n",
      " 0.37316927 0.35187843 0.33378541 0.31883663 0.30690578 0.2978093\n",
      " 0.29132226 0.2871905  0.28514126 0.28489032 0.28614873 0.28862789\n",
      " 0.29204431 0.29612473 0.30060992 0.30525923]\n",
      "27 day output [[0.3098539]]\n",
      "28 day input [0.75931413 0.7441547  0.76097586 0.76208368 0.77759302 0.74045228\n",
      " 0.7377119  0.73602104 0.75960567 0.75660293 0.76505724 0.77491092\n",
      " 0.79630909 0.79231517 0.79391863 0.80021557 0.78692188 0.7832195\n",
      " 0.79415181 0.78805888 0.771675   0.73727463 0.7059936  0.71249471\n",
      " 0.7336888  0.71389404 0.72170698 0.73946109 0.73768277 0.75438729\n",
      " 0.78015848 0.77196654 0.74744899 0.75846876 0.74846927 0.7564863\n",
      " 0.76601934 0.77581465 0.78219913 0.78004185 0.77085872 0.739257\n",
      " 0.73648749 0.74045228 0.74814863 0.74094787 0.75634057 0.76432842\n",
      " 0.77182072 0.75876022 0.75429984 0.73409694 0.78319031 0.80555059\n",
      " 0.81817373 0.81021506 0.80091529 0.8232172  0.82665722 0.82449993\n",
      " 0.81694936 0.82272156 0.84272046 0.83648171 0.85073749 0.85528533\n",
      " 0.85306968 0.84901749 0.84566493 0.83394543 0.80945706 0.80563804\n",
      " 0.700082   0.68355691 0.65878832 0.62806755 0.5938496  0.55816907\n",
      " 0.52253419 0.48801312 0.45535767 0.42510208 0.3976227  0.37316927\n",
      " 0.35187843 0.33378541 0.31883663 0.30690578 0.2978093  0.29132226\n",
      " 0.2871905  0.28514126 0.28489032 0.28614873 0.28862789 0.29204431\n",
      " 0.29612473 0.30060992 0.30525923 0.30985391]\n",
      "28 day output [[0.3141999]]\n",
      "29 day input [0.7441547  0.76097586 0.76208368 0.77759302 0.74045228 0.7377119\n",
      " 0.73602104 0.75960567 0.75660293 0.76505724 0.77491092 0.79630909\n",
      " 0.79231517 0.79391863 0.80021557 0.78692188 0.7832195  0.79415181\n",
      " 0.78805888 0.771675   0.73727463 0.7059936  0.71249471 0.7336888\n",
      " 0.71389404 0.72170698 0.73946109 0.73768277 0.75438729 0.78015848\n",
      " 0.77196654 0.74744899 0.75846876 0.74846927 0.7564863  0.76601934\n",
      " 0.77581465 0.78219913 0.78004185 0.77085872 0.739257   0.73648749\n",
      " 0.74045228 0.74814863 0.74094787 0.75634057 0.76432842 0.77182072\n",
      " 0.75876022 0.75429984 0.73409694 0.78319031 0.80555059 0.81817373\n",
      " 0.81021506 0.80091529 0.8232172  0.82665722 0.82449993 0.81694936\n",
      " 0.82272156 0.84272046 0.83648171 0.85073749 0.85528533 0.85306968\n",
      " 0.84901749 0.84566493 0.83394543 0.80945706 0.80563804 0.700082\n",
      " 0.68355691 0.65878832 0.62806755 0.5938496  0.55816907 0.52253419\n",
      " 0.48801312 0.45535767 0.42510208 0.3976227  0.37316927 0.35187843\n",
      " 0.33378541 0.31883663 0.30690578 0.2978093  0.29132226 0.2871905\n",
      " 0.28514126 0.28489032 0.28614873 0.28862789 0.29204431 0.29612473\n",
      " 0.30060992 0.30525923 0.30985391 0.31419989]\n",
      "29 day output [[0.31812987]]\n",
      "[[0.700082004070282], [0.6835569143295288], [0.6587883234024048], [0.6280675530433655], [0.5938495993614197], [0.5581690669059753], [0.522534191608429], [0.4880131185054779], [0.4553576707839966], [0.4251020848751068], [0.3976227045059204], [0.37316927313804626], [0.35187843441963196], [0.33378541469573975], [0.31883662939071655], [0.3069057762622833], [0.29780930280685425], [0.291322261095047], [0.2871904969215393], [0.285141259431839], [0.2848903238773346], [0.28614872694015503], [0.28862789273262024], [0.2920443117618561], [0.29612472653388977], [0.30060991644859314], [0.30525922775268555], [0.3098539113998413], [0.31419989466667175], [0.31812986731529236]]\n"
     ]
    }
   ],
   "source": [
    "# demonstrate prediction for next 30 days\n",
    "from numpy import array\n",
    "\n",
    "lst_output=[]\n",
    "n_steps=100\n",
    "i=0\n",
    "while(i<30):\n",
    "    \n",
    "    if(len(temp_input)>100):\n",
    "        #print(temp_input)\n",
    "        x_input=np.array(temp_input[1:])\n",
    "        #we are taking temp_input[1:] to shift value to next side\n",
    "        print(\"{} day input {}\".format(i,x_input))\n",
    "        x_input=x_input.reshape(1,-1)\n",
    "        x_input = x_input.reshape((1,n_steps ,1))\n",
    "        #print(x_input)\n",
    "        yhat = model.predict(x_input, verbose=0)\n",
    "        print(\"{} day output {}\".format(i,yhat))\n",
    "        temp_input.extend(yhat[0].tolist())\n",
    "        temp_input=temp_input[1:]\n",
    "        #print(temp_input)\n",
    "        lst_output.extend(yhat.tolist())\n",
    "        i=i+1\n",
    "    else:\n",
    "        x_input = x_input.reshape((1, n_steps,1))\n",
    "        yhat = model.predict(x_input, verbose=0)\n",
    "        print(yhat[0])\n",
    "        temp_input.extend(yhat[0].tolist())\n",
    "        print(len(temp_input))\n",
    "        lst_output.extend(yhat.tolist())\n",
    "        i=i+1\n",
    "    \n",
    "\n",
    "print(lst_output)"
   ]
  },
  {
   "cell_type": "code",
   "execution_count": 139,
   "id": "6c0a0564",
   "metadata": {},
   "outputs": [],
   "source": [
    "day_new=np.arange(1,101)\n",
    "day_pred=np.arange(101,131)"
   ]
  },
  {
   "cell_type": "code",
   "execution_count": 140,
   "id": "72e1bf40",
   "metadata": {},
   "outputs": [
    {
     "data": {
      "text/plain": [
       "9187"
      ]
     },
     "execution_count": 140,
     "metadata": {},
     "output_type": "execute_result"
    }
   ],
   "source": [
    "len(df1)"
   ]
  },
  {
   "cell_type": "code",
   "execution_count": 141,
   "id": "7369a6e7",
   "metadata": {},
   "outputs": [
    {
     "data": {
      "text/plain": [
       "[<matplotlib.lines.Line2D at 0x14c0e1347f0>]"
      ]
     },
     "execution_count": 141,
     "metadata": {},
     "output_type": "execute_result"
    },
    {
     "data": {
      "image/png": "[encoded data removed]",
      "text/plain": [
       "<Figure size 432x288 with 1 Axes>"
      ]
     },
     "metadata": {
      "needs_background": "light"
     },
     "output_type": "display_data"
    }
   ],
   "source": [
    "\n",
    "plt.plot(day_new,scalar.inverse_transform(df1[9087:]))\n",
    "plt.plot(day_pred,scalar.inverse_transform(lst_output))"
   ]
  },
  {
   "cell_type": "code",
   "execution_count": 142,
   "id": "c987a423",
   "metadata": {},
   "outputs": [
    {
     "data": {
      "text/plain": [
       "[<matplotlib.lines.Line2D at 0x14c0e11f1f0>]"
      ]
     },
     "execution_count": 142,
     "metadata": {},
     "output_type": "execute_result"
    },
    {
     "data": {
      "image/png": "[encoded data removed]",
      "text/plain": [
       "<Figure size 432x288 with 1 Axes>"
      ]
     },
     "metadata": {
      "needs_background": "light"
     },
     "output_type": "display_data"
    }
   ],
   "source": [
    "df3=df1.tolist()\n",
    "df3.extend(lst_output)\n",
    "plt.plot(df3[3116:])"
   ]
  },
  {
   "cell_type": "code",
   "execution_count": 143,
   "id": "407b59ab",
   "metadata": {},
   "outputs": [],
   "source": [
    "df3=scalar.inverse_transform(df3).tolist()"
   ]
  },
  {
   "cell_type": "code",
   "execution_count": 144,
   "id": "35e6b837",
   "metadata": {},
   "outputs": [
    {
     "data": {
      "text/plain": [
       "[<matplotlib.lines.Line2D at 0x14c189f3ee0>]"
      ]
     },
     "execution_count": 144,
     "metadata": {},
     "output_type": "execute_result"
    },
    {
     "data": {
      "image/png": "[encoded data removed]",
      "text/plain": [
       "<Figure size 432x288 with 1 Axes>"
      ]
     },
     "metadata": {
      "needs_background": "light"
     },
     "output_type": "display_data"
    }
   ],
   "source": [
    "plt.plot(df3)"
   ]
  },
  {
   "cell_type": "code",
   "execution_count": null,
   "id": "5fd0bf4e",
   "metadata": {},
   "outputs": [],
   "source": []
  },
  {
   "cell_type": "code",
   "execution_count": null,
   "id": "6d3cf536",
   "metadata": {},
   "outputs": [],
   "source": []
  },
  {
   "cell_type": "code",
   "execution_count": null,
   "id": "795c1650",
   "metadata": {},
   "outputs": [],
   "source": []
  },
  {
   "cell_type": "code",
   "execution_count": null,
   "id": "564add85",
   "metadata": {},
   "outputs": [],
   "source": []
  },
  {
   "cell_type": "code",
   "execution_count": null,
   "id": "4d6d91b6",
   "metadata": {},
   "outputs": [],
   "source": []
  },
  {
   "cell_type": "code",
   "execution_count": null,
   "id": "9861cfd4",
   "metadata": {},
   "outputs": [],
   "source": []
  },
  {
   "cell_type": "code",
   "execution_count": null,
   "id": "9174bd61",
   "metadata": {},
   "outputs": [],
   "source": []
  },
  {
   "cell_type": "code",
   "execution_count": null,
   "id": "29abd0de",
   "metadata": {},
   "outputs": [],
   "source": []
  }
 ],
 "metadata": {
  "kernelspec": {
   "display_name": "Python 3 (ipykernel)",
   "language": "python",
   "name": "python3"
  },
  "language_info": {
   "codemirror_mode": {
    "name": "ipython",
    "version": 3
   },
   "file_extension": ".py",
   "mimetype": "text/x-python",
   "name": "python",
   "nbconvert_exporter": "python",
   "pygments_lexer": "ipython3",
   "version": "3.9.12"
  }
 },
 "nbformat": 4,
 "nbformat_minor": 5
}
